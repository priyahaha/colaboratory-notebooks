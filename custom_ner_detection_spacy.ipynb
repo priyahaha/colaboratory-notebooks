{
  "nbformat": 4,
  "nbformat_minor": 0,
  "metadata": {
    "colab": {
      "name": "custom-ner-detection-spacy.ipynb",
      "provenance": []
    },
    "kernelspec": {
      "name": "python3",
      "display_name": "Python 3"
    },
    "language_info": {
      "name": "python"
    }
  },
  "cells": [
    {
      "cell_type": "code",
      "execution_count": null,
      "metadata": {
        "id": "vvV-QYGlu69g"
      },
      "outputs": [],
      "source": [
        "import spacy"
      ]
    },
    {
      "cell_type": "code",
      "source": [
        "TRAIN_DATA = [\n",
        "              (\"wifi is an entity\", {\"entities\": [(0, 3, \"NETWORK\")]}),\n",
        "              (\"router is an entity\", {\"entities\": [(0, 5, \"NETWORK\")]}),\n",
        "              (\"smartphone is an entity\", {\"entities\": [(0, 9, \"ANDROID\")]}),\n",
        "              (\"androidList is an entity\", {\"entities\": [(0, 10, \"ANDROID\")]}),\n",
        "              (\"androidGraph is an entity\", {\"entities\": [(0, 11, \"ANDROID\")]}),\n",
        "              (\"androidBar is an entity\", {\"entities\": [(0, 9, \"ANDROID\")]}),\n",
        "              (\"androidApp is an entity\", {\"entities\": [(0, 9, \"ANDROID\")]}),\n",
        "              (\"phoneApp is an entity\", {\"entities\": [(0, 7, \"PHONE\")]}),\n",
        "              (\"cellApp is an entity\", {\"entities\": [(0, 6, \"ANDROID\")]}),\n",
        "              (\"cellList is an entity\", {\"entities\": [(0, 7, \"ANDROID\")]}),\n",
        "              (\"keyboard is an entity\", {\"entities\": [(0, 7, \"HARDWARE\")]}),\n",
        "              (\"mouse is an entity\", {\"entities\": [(0, 4, \"HARDWARE\")]}),\n",
        "              (\"floppy is an entity\", {\"entities\": [(0, 5, \"HARDWARE\")]}),\n",
        "              ]"
      ],
      "metadata": {
        "id": "9rSJV0Eq8efP"
      },
      "execution_count": null,
      "outputs": []
    },
    {
      "cell_type": "code",
      "source": [
        "#adding neccesary pipes\n",
        "nlp=spacy.load('en_core_web_sm')\n",
        "other_pipes = [pipe for pipe in nlp.pipe_names if pipe != 'ner']\n",
        "\n",
        "with nlp.disable_pipes(*other_pipes): \n",
        " optimizer = nlp.begin_training()"
      ],
      "metadata": {
        "id": "vR1AmRy_Wtvf"
      },
      "execution_count": null,
      "outputs": []
    },
    {
      "cell_type": "code",
      "source": [
        "#Adding labels to the `ner`\n",
        "ner = nlp.create_pipe('ner')\n",
        "if 'ner' not in nlp.pipe_names:\n",
        "    ner = nlp.create_pipe('ner')\n",
        "    nlp.add_pipe(ner, last=True)\n",
        "\n",
        "for _, annotations in TRAIN_DATA:\n",
        "  for ent in annotations.get(\"entities\"):\n",
        "    ner.add_label(ent[2])\n",
        "\n",
        "print(ner.labels)"
      ],
      "metadata": {
        "id": "k67qmM55vg1z",
        "colab": {
          "base_uri": "https://localhost:8080/"
        },
        "outputId": "5ce92281-4531-4883-cae9-66f8895d51cd"
      },
      "execution_count": null,
      "outputs": [
        {
          "output_type": "stream",
          "name": "stdout",
          "text": [
            "('ANDROID', 'HARDWARE', 'NETWORK', 'PHONE')\n"
          ]
        }
      ]
    },
    {
      "cell_type": "code",
      "source": [
        "import random\n",
        "\n",
        "iterations = 100\n",
        "optimizer = nlp.begin_training()\n",
        "for itn in range(iterations):\n",
        "              print(\"Statring iteration \" + str(itn))\n",
        "              random.shuffle(TRAIN_DATA)\n",
        "              losses = {}\n",
        "              for text, annotations in TRAIN_DATA:\n",
        "                  nlp.update(\n",
        "                      [text],  # batch of texts\n",
        "                      [annotations],  # batch of annotations\n",
        "                      drop=0.2,  # dropout - make it harder to memorise data\n",
        "                      sgd=optimizer,  # callable to update weights\n",
        "                      losses=losses)\n",
        "              print(losses)"
      ],
      "metadata": {
        "colab": {
          "base_uri": "https://localhost:8080/"
        },
        "id": "mxUWwEdGRmTT",
        "outputId": "66641234-e30e-4f0a-fc69-b7d1a78f05ce"
      },
      "execution_count": null,
      "outputs": [
        {
          "output_type": "stream",
          "name": "stdout",
          "text": [
            "Statring iteration 0\n",
            "{'parser': 0.0, 'ner': 1.5100897579795951e-05, 'tagger': 0.5139581066185315}\n",
            "Statring iteration 1\n",
            "{'parser': 0.0, 'ner': 1.153161277379116e-08, 'tagger': 0.00139222301129438}\n",
            "Statring iteration 2\n",
            "{'ner': 4.809601427214991e-09, 'tagger': 0.0011702385735634854, 'parser': 0.0}\n",
            "Statring iteration 3\n",
            "{'parser': 0.0, 'ner': 6.961355529278782e-12, 'tagger': 1.889365411774334e-07}\n",
            "Statring iteration 4\n",
            "{'parser': 0.0, 'tagger': 7.113749048888451e-07, 'ner': 2.3015047635721337e-12}\n",
            "Statring iteration 5\n",
            "{'tagger': 1.6899328908345996e-06, 'ner': 4.5604297993073923e-10, 'parser': 0.0}\n",
            "Statring iteration 6\n",
            "{'ner': 7.679232929548119e-13, 'parser': 0.0, 'tagger': 4.2613781050355407e-07}\n",
            "Statring iteration 7\n",
            "{'ner': 1.6650466216655892e-11, 'parser': 0.0, 'tagger': 1.3777179007010143e-08}\n",
            "Statring iteration 8\n",
            "{'parser': 0.0, 'ner': 4.589301344551023e-12, 'tagger': 4.19657008449148e-09}\n",
            "Statring iteration 9\n",
            "{'ner': 6.684957290680687e-12, 'tagger': 9.7223276863926e-09, 'parser': 0.0}\n",
            "Statring iteration 10\n",
            "{'parser': 0.0, 'tagger': 8.983758999518351e-08, 'ner': 2.4271815877092067e-12}\n",
            "Statring iteration 11\n",
            "{'ner': 1.691678630135481e-10, 'tagger': 3.831254848422026e-08, 'parser': 0.0}\n",
            "Statring iteration 12\n",
            "{'tagger': 7.002637140133714e-08, 'ner': 8.232637209289477e-11, 'parser': 0.0}\n",
            "Statring iteration 13\n",
            "{'tagger': 5.615845033452304e-07, 'parser': 0.0, 'ner': 2.5098223466970544e-11}\n",
            "Statring iteration 14\n",
            "{'ner': 4.459907700724683e-12, 'parser': 0.0, 'tagger': 8.565736830121531e-09}\n",
            "Statring iteration 15\n",
            "{'tagger': 7.684470212064587e-09, 'parser': 0.0, 'ner': 1.1835729382266556e-12}\n",
            "Statring iteration 16\n",
            "{'ner': 7.153316191888573e-11, 'tagger': 1.8413712099410798e-07, 'parser': 0.0}\n",
            "Statring iteration 17\n",
            "{'tagger': 2.7147152086189064e-08, 'ner': 1.3787024663269403e-11, 'parser': 0.0}\n",
            "Statring iteration 18\n",
            "{'parser': 0.0, 'tagger': 3.154436590814503e-08, 'ner': 4.068549541132721e-11}\n",
            "Statring iteration 19\n",
            "{'tagger': 1.5069497273298427e-09, 'parser': 0.0, 'ner': 1.691547583095172e-11}\n",
            "Statring iteration 20\n",
            "{'parser': 0.0, 'tagger': 2.0219409823568938e-07, 'ner': 1.1570415658452436e-09}\n",
            "Statring iteration 21\n",
            "{'ner': 4.995347109331974e-13, 'tagger': 1.4225046038760457e-08, 'parser': 0.0}\n",
            "Statring iteration 22\n",
            "{'ner': 6.73057770667652e-11, 'tagger': 1.616588274708778e-08, 'parser': 0.0}\n",
            "Statring iteration 23\n",
            "{'parser': 0.0, 'tagger': 3.1199944849238763e-06, 'ner': 1.578791412757249e-12}\n",
            "Statring iteration 24\n",
            "{'ner': 2.576791311307855e-12, 'parser': 0.0, 'tagger': 9.480806313633128e-09}\n",
            "Statring iteration 25\n",
            "{'ner': 1.8035667639981506e-12, 'parser': 0.0, 'tagger': 3.266647241356897e-08}\n",
            "Statring iteration 26\n",
            "{'parser': 0.0, 'tagger': 1.017165351480196e-06, 'ner': 1.5941883889300278e-12}\n",
            "Statring iteration 27\n",
            "{'parser': 0.0, 'tagger': 1.0252789023520032e-06, 'ner': 4.641140590933763e-13}\n",
            "Statring iteration 28\n",
            "{'parser': 0.0, 'tagger': 1.6366603129453362e-09, 'ner': 5.7780008952376335e-11}\n",
            "Statring iteration 29\n",
            "{'parser': 0.0, 'tagger': 2.2672706306804333e-10, 'ner': 3.477997697752096e-11}\n",
            "Statring iteration 30\n",
            "{'parser': 0.0, 'ner': 4.424301315152438e-12, 'tagger': 1.4795658826869724e-08}\n",
            "Statring iteration 31\n",
            "{'parser': 0.0, 'tagger': 7.939621717010007e-09, 'ner': 3.2357801601371e-11}\n",
            "Statring iteration 32\n",
            "{'ner': 1.271915836408266e-12, 'parser': 0.0, 'tagger': 3.1618044873580296e-08}\n",
            "Statring iteration 33\n",
            "{'parser': 0.0, 'ner': 1.54047998832439e-13, 'tagger': 1.085817204969175e-06}\n",
            "Statring iteration 34\n",
            "{'parser': 0.0, 'tagger': 4.077272239770395e-07, 'ner': 2.2250635977163987e-14}\n",
            "Statring iteration 35\n",
            "{'parser': 0.0, 'tagger': 7.642527023683295e-10, 'ner': 2.7599243047010293e-11}\n",
            "Statring iteration 36\n",
            "{'tagger': 1.0701595862045497e-05, 'parser': 0.0, 'ner': 7.682335501855118e-11}\n",
            "Statring iteration 37\n",
            "{'tagger': 2.0627565625332133e-10, 'parser': 0.0, 'ner': 2.3606510104367904e-12}\n",
            "Statring iteration 38\n",
            "{'parser': 0.0, 'tagger': 8.062748623097708e-09, 'ner': 7.148168111134451e-14}\n",
            "Statring iteration 39\n",
            "{'parser': 0.0, 'tagger': 9.286820897252794e-11, 'ner': 6.809505598971055e-13}\n",
            "Statring iteration 40\n",
            "{'ner': 1.5043700400134583e-13, 'tagger': 4.5807418433596234e-10, 'parser': 0.0}\n",
            "Statring iteration 41\n",
            "{'parser': 0.0, 'tagger': 2.2437191872374382e-08, 'ner': 9.24871393903195e-14}\n",
            "Statring iteration 42\n",
            "{'parser': 0.0, 'ner': 4.0654070378240695e-12, 'tagger': 3.807355271254406e-09}\n",
            "Statring iteration 43\n",
            "{'parser': 0.0, 'tagger': 8.406524344012e-10, 'ner': 3.5398219569864216e-13}\n",
            "Statring iteration 44\n",
            "{'ner': 1.411577066147949e-12, 'parser': 0.0, 'tagger': 5.823952473440249e-11}\n",
            "Statring iteration 45\n",
            "{'parser': 0.0, 'ner': 3.5010139497736963e-12, 'tagger': 7.589346568498866e-07}\n",
            "Statring iteration 46\n",
            "{'ner': 2.2540904987274858e-10, 'parser': 0.0, 'tagger': 2.829784181281823e-10}\n",
            "Statring iteration 47\n",
            "{'tagger': 2.770036453479777e-10, 'parser': 0.0, 'ner': 2.763895426919364e-13}\n",
            "Statring iteration 48\n",
            "{'parser': 0.0, 'ner': 3.681964714389116e-13, 'tagger': 6.458502609908918e-10}\n",
            "Statring iteration 49\n",
            "{'parser': 0.0, 'tagger': 2.0302569110977348e-08, 'ner': 8.792944792135637e-13}\n",
            "Statring iteration 50\n",
            "{'ner': 6.453535192410697e-13, 'tagger': 2.2950461560580177e-08, 'parser': 0.0}\n",
            "Statring iteration 51\n",
            "{'tagger': 5.844464919721448e-11, 'ner': 1.1783762855823332e-11, 'parser': 0.0}\n",
            "Statring iteration 52\n",
            "{'parser': 0.0, 'ner': 1.750629116237354e-11, 'tagger': 2.7923632205115322e-08}\n",
            "Statring iteration 53\n",
            "{'tagger': 4.628123582952191e-09, 'ner': 4.715224706134332e-13, 'parser': 0.0}\n",
            "Statring iteration 54\n",
            "{'ner': 1.6709239710563985e-11, 'parser': 0.0, 'tagger': 3.0399019334331206e-08}\n",
            "Statring iteration 55\n",
            "{'tagger': 5.2275428103578286e-11, 'ner': 1.0172761077234568e-11, 'parser': 0.0}\n",
            "Statring iteration 56\n",
            "{'parser': 0.0, 'tagger': 5.012025642748774e-11, 'ner': 3.416984846170194e-11}\n",
            "Statring iteration 57\n",
            "{'tagger': 8.227387759026766e-11, 'parser': 0.0, 'ner': 1.629051083712856e-10}\n",
            "Statring iteration 58\n",
            "{'parser': 0.0, 'ner': 1.827068447157281e-12, 'tagger': 1.0659299183115622e-10}\n",
            "Statring iteration 59\n",
            "{'tagger': 8.205370287579523e-11, 'parser': 0.0, 'ner': 5.21319069939371e-13}\n",
            "Statring iteration 60\n",
            "{'ner': 1.6255609308075746e-12, 'parser': 0.0, 'tagger': 6.909500133029105e-11}\n",
            "Statring iteration 61\n",
            "{'tagger': 1.141982819309465e-10, 'ner': 1.688873939166255e-13, 'parser': 0.0}\n",
            "Statring iteration 62\n",
            "{'ner': 2.6929178550611363e-13, 'tagger': 1.0038850976057254e-07, 'parser': 0.0}\n",
            "Statring iteration 63\n",
            "{'tagger': 1.370143410227699e-09, 'ner': 1.5982068411105583e-12, 'parser': 0.0}\n",
            "Statring iteration 64\n",
            "{'tagger': 4.58890991456289e-10, 'ner': 1.262177619186194e-12, 'parser': 0.0}\n",
            "Statring iteration 65\n",
            "{'tagger': 4.478655969569699e-10, 'ner': 4.069246678634972e-12, 'parser': 0.0}\n",
            "Statring iteration 66\n",
            "{'tagger': 7.190999797951383e-09, 'ner': 6.725758627839147e-12, 'parser': 0.0}\n",
            "Statring iteration 67\n",
            "{'ner': 1.5163091786600614e-13, 'parser': 0.0, 'tagger': 1.4646459681538705e-10}\n",
            "Statring iteration 68\n",
            "{'tagger': 1.7732760638681047e-09, 'ner': 8.897352634971473e-11, 'parser': 0.0}\n",
            "Statring iteration 69\n",
            "{'parser': 0.0, 'ner': 3.5698202867176636e-12, 'tagger': 1.7804359047226637e-10}\n",
            "Statring iteration 70\n",
            "{'ner': 5.999218433386862e-14, 'parser': 0.0, 'tagger': 2.070154623594438e-10}\n",
            "Statring iteration 71\n",
            "{'tagger': 2.9002769327164194e-11, 'parser': 0.0, 'ner': 4.717787468328095e-12}\n",
            "Statring iteration 72\n",
            "{'parser': 0.0, 'ner': 3.8072838214853767e-13, 'tagger': 1.3881162066341204e-08}\n",
            "Statring iteration 73\n",
            "{'ner': 4.5166549604394315e-13, 'tagger': 8.473175708968905e-11, 'parser': 0.0}\n",
            "Statring iteration 74\n",
            "{'parser': 0.0, 'ner': 6.652251339904273e-13, 'tagger': 5.51993298058768e-09}\n",
            "Statring iteration 75\n",
            "{'tagger': 2.5072331224130514e-09, 'ner': 1.5586492175526985e-11, 'parser': 0.0}\n",
            "Statring iteration 76\n",
            "{'parser': 0.0, 'tagger': 1.6937458733062052e-11, 'ner': 2.375853101665129e-12}\n",
            "Statring iteration 77\n",
            "{'tagger': 3.6761340231795817e-10, 'parser': 0.0, 'ner': 2.335407439750196e-12}\n",
            "Statring iteration 78\n",
            "{'tagger': 9.852391693439077e-11, 'parser': 0.0, 'ner': 3.1312192785828275e-12}\n",
            "Statring iteration 79\n",
            "{'ner': 2.080662224804775e-12, 'parser': 0.0, 'tagger': 3.090003628654798e-10}\n",
            "Statring iteration 80\n",
            "{'parser': 0.0, 'ner': 1.624009557392046e-12, 'tagger': 1.0980538655324724e-09}\n",
            "Statring iteration 81\n",
            "{'parser': 0.0, 'ner': 9.200442222726199e-12, 'tagger': 1.1772446994994182e-09}\n",
            "Statring iteration 82\n",
            "{'tagger': 1.5774282297756655e-10, 'parser': 0.0, 'ner': 1.2507972883982918e-12}\n",
            "Statring iteration 83\n",
            "{'parser': 0.0, 'ner': 1.41373588373089e-12, 'tagger': 6.56666138779979e-11}\n",
            "Statring iteration 84\n",
            "{'parser': 0.0, 'ner': 3.0555619083977107e-12, 'tagger': 1.740445328113446e-10}\n",
            "Statring iteration 85\n",
            "{'parser': 0.0, 'tagger': 4.6022354565707524e-09, 'ner': 3.138724369915811e-12}\n",
            "Statring iteration 86\n",
            "{'tagger': 2.0798208114635042e-09, 'parser': 0.0, 'ner': 6.838925405899021e-12}\n",
            "Statring iteration 87\n",
            "{'ner': 2.3962358709325303e-12, 'parser': 0.0, 'tagger': 2.037382220948137e-11}\n",
            "Statring iteration 88\n",
            "{'ner': 3.846559212739981e-14, 'parser': 0.0, 'tagger': 1.1269670245527391e-10}\n",
            "Statring iteration 89\n",
            "{'ner': 1.685242230993945e-13, 'parser': 0.0, 'tagger': 7.12757349841819e-09}\n",
            "Statring iteration 90\n",
            "{'tagger': 1.5125589665595992e-10, 'parser': 0.0, 'ner': 4.5410361808544865e-13}\n",
            "Statring iteration 91\n",
            "{'ner': 5.689199182794665e-13, 'tagger': 1.5225011790880664e-10, 'parser': 0.0}\n",
            "Statring iteration 92\n",
            "{'tagger': 6.128974683178764e-11, 'parser': 0.0, 'ner': 3.0422190717561934e-10}\n",
            "Statring iteration 93\n",
            "{'ner': 1.4470285978808033e-13, 'tagger': 2.8823726028268486e-10, 'parser': 0.0}\n",
            "Statring iteration 94\n",
            "{'ner': 2.5056716647799304e-11, 'parser': 0.0, 'tagger': 7.831908070566603e-10}\n",
            "Statring iteration 95\n",
            "{'ner': 6.192211516465872e-13, 'parser': 0.0, 'tagger': 3.6238720150221744e-11}\n",
            "Statring iteration 96\n",
            "{'parser': 0.0, 'ner': 1.0231399963395743e-12, 'tagger': 2.9829930750831664e-10}\n",
            "Statring iteration 97\n",
            "{'tagger': 1.4102052487788307e-11, 'ner': 7.200339980349476e-13, 'parser': 0.0}\n",
            "Statring iteration 98\n",
            "{'parser': 0.0, 'ner': 3.5746285645527744e-12, 'tagger': 6.872742742718618e-11}\n",
            "Statring iteration 99\n",
            "{'ner': 1.2524504126392403e-13, 'tagger': 6.538815993596587e-10, 'parser': 0.0}\n"
          ]
        }
      ]
    },
    {
      "cell_type": "code",
      "source": [
        "doc = nlp(\"monitor is an entity\")\n",
        "doc.ents\n",
        "print(\"Entities\", [(ent.text, ent.label_) for ent in doc.ents])"
      ],
      "metadata": {
        "colab": {
          "base_uri": "https://localhost:8080/"
        },
        "id": "jnLo2SEiv0k9",
        "outputId": "50243d8f-d32a-45db-b97c-313d9f0d40e0"
      },
      "execution_count": null,
      "outputs": [
        {
          "output_type": "stream",
          "name": "stdout",
          "text": [
            "Entities [('monitor', 'ORG')]\n"
          ]
        }
      ]
    },
    {
      "cell_type": "code",
      "source": [
        "doc = nlp(\"androidtext is an entity\")\n",
        "doc.ents\n",
        "print(\"Entities\", [(ent.text, ent.label_) for ent in doc.ents])"
      ],
      "metadata": {
        "colab": {
          "base_uri": "https://localhost:8080/"
        },
        "id": "aiKOUmWDbamu",
        "outputId": "d6483fd5-de81-494f-b3b8-4fe130762e0e"
      },
      "execution_count": null,
      "outputs": [
        {
          "output_type": "stream",
          "name": "stdout",
          "text": [
            "Entities [('androidtext', 'ORG')]\n"
          ]
        }
      ]
    }
  ]
}