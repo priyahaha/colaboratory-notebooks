{
  "cells": [
    {
      "cell_type": "code",
      "execution_count": null,
      "metadata": {
        "colab": {
          "base_uri": "https://localhost:8080/"
        },
        "id": "cdp9-SiUZyjr",
        "outputId": "b974fd13-5c22-40df-a521-ebc59895f0d8"
      },
      "outputs": [
        {
          "output_type": "stream",
          "name": "stdout",
          "text": [
            "Looking in indexes: https://pypi.org/simple, https://us-python.pkg.dev/colab-wheels/public/simple/\n",
            "Requirement already satisfied: fasttext in /usr/local/lib/python3.7/dist-packages (0.9.2)\n",
            "Requirement already satisfied: setuptools>=0.7.0 in /usr/local/lib/python3.7/dist-packages (from fasttext) (57.4.0)\n",
            "Requirement already satisfied: numpy in /usr/local/lib/python3.7/dist-packages (from fasttext) (1.21.6)\n",
            "Requirement already satisfied: pybind11>=2.2 in /usr/local/lib/python3.7/dist-packages (from fasttext) (2.9.2)\n",
            "Looking in indexes: https://pypi.org/simple, https://us-python.pkg.dev/colab-wheels/public/simple/\n",
            "Collecting git+https://github.com/facebookresearch/fastText.git@b64e359d5485dda4b4b5074494155d18e25c8d13\n",
            "  Cloning https://github.com/facebookresearch/fastText.git (to revision b64e359d5485dda4b4b5074494155d18e25c8d13) to /tmp/pip-req-build-f0nm573r\n",
            "  Running command git clone -q https://github.com/facebookresearch/fastText.git /tmp/pip-req-build-f0nm573r\n",
            "  Running command git rev-parse -q --verify 'sha^b64e359d5485dda4b4b5074494155d18e25c8d13'\n",
            "  Running command git fetch -q https://github.com/facebookresearch/fastText.git b64e359d5485dda4b4b5074494155d18e25c8d13\n",
            "  Running command git checkout -q b64e359d5485dda4b4b5074494155d18e25c8d13\n",
            "Requirement already satisfied: pybind11>=2.2 in /usr/local/lib/python3.7/dist-packages (from fasttext==0.9.2) (2.9.2)\n",
            "Requirement already satisfied: setuptools>=0.7.0 in /usr/local/lib/python3.7/dist-packages (from fasttext==0.9.2) (57.4.0)\n",
            "Requirement already satisfied: numpy in /usr/local/lib/python3.7/dist-packages (from fasttext==0.9.2) (1.21.6)\n"
          ]
        }
      ],
      "source": [
        "!pip install fasttext\n",
        "!pip install git+https://github.com/facebookresearch/fastText.git@b64e359d5485dda4b4b5074494155d18e25c8d13"
      ]
    },
    {
      "cell_type": "code",
      "execution_count": null,
      "metadata": {
        "id": "XncRee8tYJYY",
        "colab": {
          "base_uri": "https://localhost:8080/"
        },
        "outputId": "cbc7cdc6-cd49-47e0-fe66-1e74cb3579c3"
      },
      "outputs": [
        {
          "output_type": "stream",
          "name": "stdout",
          "text": [
            "Drive already mounted at /content/drive; to attempt to forcibly remount, call drive.mount(\"/content/drive\", force_remount=True).\n"
          ]
        }
      ],
      "source": [
        "import fasttext\n",
        "import pickle\n",
        "from gensim.test.utils import get_tmpfile\n",
        "from google.colab import drive\n",
        "drive.mount('/content/drive')"
      ]
    },
    {
      "cell_type": "code",
      "execution_count": null,
      "metadata": {
        "id": "vmj0SggqfGPb"
      },
      "outputs": [],
      "source": [
        "#train the model\n",
        "model = fasttext.train_supervised(input = \"/content/drive/MyDrive/ml/ftdataset.tsv\", lr=0.5, epoch = 100000)"
      ]
    },
    {
      "cell_type": "code",
      "source": [
        "labels = model.get_labels()\n",
        "for i in labels :\n",
        "  print(i)\n",
        "print(model.get_words())"
      ],
      "metadata": {
        "id": "eGFcl-VVosvT",
        "colab": {
          "base_uri": "https://localhost:8080/"
        },
        "outputId": "ed6f7a26-0e23-4d06-98d6-10126f4113bf"
      },
      "execution_count": null,
      "outputs": [
        {
          "output_type": "stream",
          "name": "stdout",
          "text": [
            "__label__Communication\n",
            "__label__Property\n",
            "__label__Documentation\n",
            "__label__Agriculture\n",
            "__label__Statistics\n",
            "__label__Health\n",
            "__label__Retail\n",
            "__label__Security\n",
            "__label__Food\n",
            "__label__Computer\n",
            "__label__Media\n",
            "__label__Management\n",
            "__label__Finance\n",
            "__label__Calendar\n",
            "__label__Maps\n",
            "__label__Gallery\n",
            "__label__Automobiles\n",
            "__label__Ecommerce\n",
            "__label__Dashboard\n",
            "__label__Education\n",
            "__label__Tasks\n",
            "__label__Mobile\n",
            "__label__Mail\n",
            "__label__Universe\n",
            "['</s>', 'list', 'agenda', 'task', 'fee', 'buy', 'book', 'library', 'invoice', 'agriculture', 'payment', 'ledger', 'knowledge', 'history', 'field', 'plot', 'dashboard', 'studio', 'draft', 'export', 'travel', 'delivery', 'calendar', 'maps', 'agri', 'plant', 'food', 'drive', 'comments', 'direction', 'post', 'mobile', 'tweet', 'youtube', 'group', 'participant', 'social', 'screen', 'attachement', 'send', 'engine', 'monitor', 'exercise', 'location', 'address', 'route', 'direct', 'date', 'day', 'time', 'fitness', 'management', 'health', 'portal', 'visual', 'dash', 'comparision', 'board', 'chart', 'forward', 'earth', 'planets', 'nature', 'bonifich', 'crop', 'express', 'walk', 'tutorial', 'cyclic', 'bio', 'transport', 'language', 'connect', 'atom', 'dineout', 'tasty', 'order', 'import', 'chef', 'dineinn', 'producer', 'ferilizer', 'consumer', 'photo', 'image', 'store', 'inbox', 'alert', 'program', 'notification', 'alarm', 'gym', 'oauth', 'risk', 'access', 'schedule', 'vigilance', 'map', 'gps', 'admin', 'employees', 'human', 'humanresources', 'reject', 'hire', 'payroll', 'recruit', 'empire', 'emp', 'asenti', 'balance', 'auth', 'transfer', 'block', 'statistics', 'check', 'control', 'guard', 'pay', 'loan', 'wifi', 'art', 'workshop', 'photoshop', 'signature', 'reply', 'spare', 'add', 'phone', 'paint', 'network', 'dail', 'headphone', 'bluetooth', 'car', 'motor', 'core', 'material', 'moon', 'sketch', 'outline', 'real', 'layout', 'land', 'apprtment', 'house', 'builder', 'smart', 'sun', 'pagein', 'pdf', 'document', 'summary', 'bright', 'click', 'picture', 'box', 'doctor', 'patient', 'hospital', 'raw', 'diet', 'rawmaterial', 'walking', 'analyst', 'analyt', 'bar', 'steel', 'auto', 'automa', 'report', 'automatic', 'demo', 'cement', 'keyboard', 'digit', '0', 'property', 'io', 'del', 'concret', 'computer', 'logic', 'copi', 'copy', 'castrol', 'cpu', 'processor', 'input', 'output', 'server', 'system', 'parts', 'bike', 'retail', 'universe', 'api', 'app', 'applic', 'application', 'branch', 'automobiles', 'tasks', 'bill', 'account', 'finance', 'communication', 'documentation', 'folder', 'publish', 'ecommerce', 'edit', 'education', 'file', 'bank', 'form', 'lift', 'call', 'link', 'mail', 'open', 'aweary', 'page', 'calvary', 'gallery', 'close', 'diagram', 'cc', 'camera', 'security', 'graph', 'menu', 'cuisine', 'restaurant', 'observability', 'comment', 'log', 'media', 'consume', 'fund', 'customer', 'credit', 'coverage', 'commercial', 'insurance', 'claim', 'card']\n"
          ]
        }
      ]
    },
    {
      "cell_type": "code",
      "execution_count": null,
      "metadata": {
        "id": "yURYMLNdmcCl",
        "colab": {
          "base_uri": "https://localhost:8080/"
        },
        "outputId": "c2ec5015-f81f-4967-a79b-ddd20911359f"
      },
      "outputs": [
        {
          "output_type": "stream",
          "name": "stdout",
          "text": [
            "lunch:\n",
            "('__label__Mobile',)\n",
            "\n",
            "authenticator:\n",
            "('__label__Mobile',)\n",
            "\n",
            "tweet:\n",
            "('__label__Media',)\n",
            "\n",
            "delivery:\n",
            "('__label__Food',)\n",
            "\n",
            "statistic:\n",
            "('__label__Mobile',)\n",
            "\n",
            "crops:\n",
            "('__label__Mobile',)\n",
            "\n",
            "payment:\n",
            "('__label__Retail',)\n",
            "\n",
            "food:\n",
            "('__label__Food',)\n",
            "\n",
            "report:\n",
            "('__label__Statistics',)\n",
            "\n",
            "spam:\n",
            "('__label__Mobile',)\n",
            "\n",
            "route:\n",
            "('__label__Maps',)\n",
            "\n",
            "shopping:\n",
            "('__label__Mobile',)\n",
            "\n"
          ]
        }
      ],
      "source": [
        "projectNames = ['lunch','authenticator','tweet', 'delivery', 'statistic', 'crops', 'payment', 'food', 'report', 'spam', 'route', 'shopping']\n",
        "for i in projectNames :\n",
        "  prediction = model.predict(i)\n",
        "  print(i + \":\" )\n",
        "  print(prediction[0])\n",
        "  print()"
      ]
    }
  ],
  "metadata": {
    "colab": {
      "name": "fasttext-classification.ipynb",
      "provenance": [],
      "collapsed_sections": []
    },
    "kernelspec": {
      "display_name": "Python 3",
      "name": "python3"
    },
    "language_info": {
      "name": "python"
    }
  },
  "nbformat": 4,
  "nbformat_minor": 0
}