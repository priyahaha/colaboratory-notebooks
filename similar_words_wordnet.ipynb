{
  "nbformat": 4,
  "nbformat_minor": 0,
  "metadata": {
    "colab": {
      "name": "similar-words-wordnet.ipynb",
      "provenance": [],
      "collapsed_sections": []
    },
    "kernelspec": {
      "name": "python3",
      "display_name": "Python 3"
    },
    "language_info": {
      "name": "python"
    }
  },
  "cells": [
    {
      "cell_type": "code",
      "source": [
        "import nltk\n",
        "from nltk.corpus import wordnet\n",
        "nltk.download('wordnet')\n",
        "from itertools import chain"
      ],
      "metadata": {
        "colab": {
          "base_uri": "https://localhost:8080/"
        },
        "id": "PpWd859swuIJ",
        "outputId": "172735ef-1920-4a8a-d07f-c1acec9e985e"
      },
      "execution_count": null,
      "outputs": [
        {
          "output_type": "stream",
          "name": "stdout",
          "text": [
            "[nltk_data] Downloading package wordnet to /root/nltk_data...\n",
            "[nltk_data]   Unzipping corpora/wordnet.zip.\n"
          ]
        }
      ]
    },
    {
      "cell_type": "markdown",
      "source": [
        "**Hypernym** : A word whose meaning includes a group of other words, can be thought of as category or an abstract term\n",
        "\n",
        "**Hyponym** : Word that is opposite of hypernym, a more specific term\n"
      ],
      "metadata": {
        "id": "E_xCYZbOKR4h"
      }
    },
    {
      "cell_type": "code",
      "source": [
        "def getCloseTerms(word) :\n",
        "  print('-----------------------------------------------------')\n",
        "\n",
        "  if wordnet.synsets(word) :\n",
        "    print('FOUND! \\nSimilar words found for word : ' + word)\n",
        "    synonyms = []\n",
        "    for syn in wordnet.synsets(word):\n",
        "        for l in syn.lemmas():\n",
        "            synonyms.append(l.name())\n",
        "    print(set(synonyms))\n",
        "\n",
        "  else :\n",
        "    print('NOT FOUND! \\nNo Similar words found for word : '+ word)\n",
        "\n"
      ],
      "metadata": {
        "id": "KnqUWbmrR50K"
      },
      "execution_count": null,
      "outputs": []
    },
    {
      "cell_type": "code",
      "source": [
        "getCloseTerms('bank')\n",
        "getCloseTerms('mango')\n",
        "getCloseTerms('wifi')\n",
        "getCloseTerms('usb')\n",
        "getCloseTerms('twitter')\n",
        "getCloseTerms('transaction')\n",
        "getCloseTerms('deposit')\n"
      ],
      "metadata": {
        "colab": {
          "base_uri": "https://localhost:8080/"
        },
        "id": "1ub7j351YXRp",
        "outputId": "d7812025-f72d-403c-ff01-5065671e50b2"
      },
      "execution_count": null,
      "outputs": [
        {
          "output_type": "stream",
          "name": "stdout",
          "text": [
            "-----------------------------------------------------\n",
            "FOUND! \n",
            "Similar words found for word : bank\n",
            "{'trust', 'coin_bank', 'money_box', 'rely', 'cant', 'bank', 'deposit', 'depository_financial_institution', 'banking_concern', 'banking_company', 'swear', 'camber', 'savings_bank', 'bank_building'}\n",
            "-----------------------------------------------------\n",
            "FOUND! \n",
            "Similar words found for word : mango\n",
            "{'mango', 'mango_tree', 'Mangifera_indica'}\n",
            "-----------------------------------------------------\n",
            "FOUND! \n",
            "Similar words found for word : wifi\n",
            "{'WiFi', 'wireless_local_area_network', 'WLAN', 'wireless_fidelity'}\n",
            "-----------------------------------------------------\n",
            "NOT FOUND! \n",
            "No Similar words found for word : usb\n",
            "-----------------------------------------------------\n",
            "FOUND! \n",
            "Similar words found for word : twitter\n",
            "{'twitter', 'chirrup', 'chitter'}\n",
            "-----------------------------------------------------\n",
            "FOUND! \n",
            "Similar words found for word : transaction\n",
            "{'transaction', 'dealings', 'dealing'}\n",
            "-----------------------------------------------------\n",
            "FOUND! \n",
            "Similar words found for word : deposit\n",
            "{'depository', 'stick', 'posit', 'alluviation', 'fix', 'bank', 'deposit', 'sedimentation', 'lodge', 'wedge', 'situate', 'down_payment', 'repository', 'depositary', 'bank_deposit', 'sediment', 'deposition'}\n"
          ]
        }
      ]
    }
  ]
}